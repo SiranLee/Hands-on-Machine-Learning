{
 "cells": [
  {
   "cell_type": "markdown",
   "id": "a7f63e2b",
   "metadata": {},
   "source": [
    "# 䁖一眼MNIST数据"
   ]
  },
  {
   "cell_type": "code",
   "execution_count": 1,
   "id": "21387ae2",
   "metadata": {},
   "outputs": [
    {
     "data": {
      "text/plain": [
       "dict_keys(['data', 'target', 'frame', 'categories', 'feature_names', 'target_names', 'DESCR', 'details', 'url'])"
      ]
     },
     "execution_count": 1,
     "metadata": {},
     "output_type": "execute_result"
    }
   ],
   "source": [
    "import os\n",
    "from sklearn.datasets import fetch_openml\n",
    "data_path = os.path.join(os.getcwd(),'scikit_learn_data')\n",
    "mnist = fetch_openml('mnist_784',version=1,data_home=data_path)\n",
    "mnist.keys()"
   ]
  },
  {
   "cell_type": "code",
   "execution_count": 2,
   "id": "72043203",
   "metadata": {},
   "outputs": [],
   "source": [
    "X = mnist[\"data\"]\n",
    "y = mnist[\"target\"]\n",
    "## X是一个矩阵，70000×784的，70000表示70000张图片，每张图片784个特征，这个特征数是 28×28 像素然后拼成一列来的\n",
    "## y就是一个向量，70000个标签表示这张图片上的数字是多少\n",
    "X = X.to_numpy()"
   ]
  },
  {
   "cell_type": "code",
   "execution_count": 12,
   "id": "bb3bc0c3",
   "metadata": {},
   "outputs": [
    {
     "data": {
      "image/png": "[encoded data removed]",
      "text/plain": [
       "<Figure size 432x288 with 1 Axes>"
      ]
     },
     "metadata": {
      "needs_background": "light"
     },
     "output_type": "display_data"
    }
   ],
   "source": [
    "import numpy as np\n",
    "import matplotlib as mpl\n",
    "import matplotlib.pyplot as plt\n",
    "# 取一张图片看看\n",
    "some_digit = X[13]\n",
    "some_digit_image = some_digit.reshape(28,28)\n",
    "\n",
    "plt.imshow(some_digit_image,cmap = mpl.cm.binary,interpolation=\"nearest\") # 采取最近邻插值\n",
    "plt.axis(\"off\")\n",
    "plt.show()"
   ]
  },
  {
   "cell_type": "code",
   "execution_count": 7,
   "id": "2e61d9ce",
   "metadata": {},
   "outputs": [],
   "source": [
    "X_train,y_train,X_test,y_test = X[:60000],y[:60000],X[60000:],y[60000:]\n",
    "y = y.astype(np.uint8) # 将所有字符串的标签转化为数字"
   ]
  },
  {
   "cell_type": "markdown",
   "id": "62abb7e0",
   "metadata": {},
   "source": [
    "# 做一个Binary的分类器(二分类器)"
   ]
  },
  {
   "cell_type": "code",
   "execution_count": null,
   "id": "79b33026",
   "metadata": {},
   "outputs": [],
   "source": [
    "# 这里我们做一个能识别是否是6的识别器"
   ]
  },
  {
   "cell_type": "code",
   "execution_count": 13,
   "id": "0c8fec7e",
   "metadata": {},
   "outputs": [
    {
     "data": {
      "text/plain": [
       "array([ True])"
      ]
     },
     "execution_count": 13,
     "metadata": {},
     "output_type": "execute_result"
    }
   ],
   "source": [
    "# 注意这里需要用binary的标签去训练\n",
    "y_train_6 = (y_train == 6)\n",
    "y_test_6 = (y_test == 6)\n",
    "# 选择用sklearn的随机梯度下降分类器(SGD)来进行训练\n",
    "from sklearn.linear_model import SGDClassifier\n",
    "sgd_clf = SGDClassifier(random_state=42)\n",
    "sgd_clf.fit(X_train,y_train_6) # 只用关于6的binary的标签来训练仅能识别6的分类器\n",
    "sgd_clf.predict([some_digit]) # []将输入参数变化为2维的"
   ]
  },
  {
   "cell_type": "code",
   "execution_count": null,
   "id": "aba2d0e5",
   "metadata": {},
   "outputs": [],
   "source": [
    "# 我们接着想要评估一下这个分类器的表现能力，在此之前需要看看如何衡量表现能力"
   ]
  },
  {
   "cell_type": "markdown",
   "id": "520dd106",
   "metadata": {},
   "source": [
    "# Performance Measures"
   ]
  },
  {
   "cell_type": "markdown",
   "id": "c753b0b5",
   "metadata": {},
   "source": [
    "#### 使用Accuracy来作为Performance Measures"
   ]
  },
  {
   "cell_type": "code",
   "execution_count": 16,
   "id": "9b036696",
   "metadata": {},
   "outputs": [
    {
     "name": "stdout",
     "output_type": "stream",
     "text": [
      "0.94635\n",
      "0.98085\n",
      "0.98335\n"
     ]
    }
   ],
   "source": [
    "#### 这里的Accuracy一般从交叉验证中算出来\n",
    "#### 先手写实现一波交叉验证\n",
    "#################################### Manual Cross Validation ###########################################\n",
    "from sklearn.model_selection import StratifiedKFold\n",
    "from sklearn.base import clone\n",
    "\n",
    "# 先对训练集数据进行分层然后再划分Folds\n",
    "# 分层使得划分出的Folds中每个类别的待识别样本的比例基本一致\n",
    "skfolds = StratifiedKFold(n_splits = 3, random_state = 42, shuffle=True) # 划分成三家 train/test 集\n",
    "\n",
    "for train_index, test_index in skfolds.split(X_train,y_train_6): # 用上面定义的模式去分 X_train集和y_train_6集\n",
    "    clone_clf = clone(sgd_clf)\n",
    "    X_train_fold = X_train[train_index]\n",
    "    y_train_6_fold = y_train_6[train_index] ## 这两个用于训练\n",
    "    X_test_fold = X_train[test_index]  ## 这个用于预测\n",
    "    y_test_6_fold = y_train_6[test_index]  ## 这个用于对比预测结果\n",
    "    \n",
    "    clone_clf.fit(X_train_fold,y_train_6_fold)\n",
    "    y_predictions = clone_clf.predict(X_test_fold)\n",
    "    n_accurate = sum(y_test_6_fold == y_predictions)\n",
    "    print(n_accurate/len(y_predictions))\n",
    "    \n",
    "########################################################################################################"
   ]
  },
  {
   "cell_type": "code",
   "execution_count": 19,
   "id": "ebf49867",
   "metadata": {},
   "outputs": [
    {
     "data": {
      "text/plain": [
       "array([0.9829 , 0.98025, 0.9804 ])"
      ]
     },
     "execution_count": 19,
     "metadata": {},
     "output_type": "execute_result"
    }
   ],
   "source": [
    "## 以上都是手动的，下面是sklearn提供给我们的\n",
    "from sklearn.model_selection import cross_val_score\n",
    "cross_val_score(sgd_clf,X_train,y_train_6,cv=3,scoring=\"accuracy\") # 声明采用accuracy的方式来计算测试/验证的分数"
   ]
  },
  {
   "cell_type": "code",
   "execution_count": 20,
   "id": "35eda5f1",
   "metadata": {},
   "outputs": [
    {
     "data": {
      "text/plain": [
       "array([0.89933333, 0.90316667, 0.90025   , 0.90158333, 0.9025    ])"
      ]
     },
     "execution_count": 20,
     "metadata": {},
     "output_type": "execute_result"
    }
   ],
   "source": [
    "## 这个准确率就离谱吧，让我们来看看一个摆烂分类器(判断不是6的分类器)\n",
    "from sklearn.base import BaseEstimator\n",
    "class BaiLanClassifier(BaseEstimator):\n",
    "    def fit(self,X,y=None):\n",
    "        return self\n",
    "    def predict(self,X,y=None):\n",
    "        return np.zeros((len(X),1),dtype=bool)\n",
    "bailan_clf = BaiLanClassifier()\n",
    "cross_val_score(bailan_clf,X_train,y_train_6,scoring=\"accuracy\")"
   ]
  },
  {
   "cell_type": "code",
   "execution_count": null,
   "id": "c361cbc7",
   "metadata": {},
   "outputs": [],
   "source": [
    "## 就这摆烂的都能上90%的准确率\n",
    "## 因为整个训练集中只有差不多10%的6，而有差不多90%的不是6，因此就算判断是6的准确率不高，另一方面判断不是6的准确率那也会相当高的\n",
    "## 这么看来，准确率虽然在衡量判断一些类别时的结果令人激动，但是在衡量判断另一些类别时的结果却有点离谱\n",
    "## 所以准确率并不是一种很好的用来衡量分类效果的指标，那下面看看混淆矩阵怎么样(Confusion Matrix)"
   ]
  },
  {
   "cell_type": "markdown",
   "id": "4dd5ccc9",
   "metadata": {},
   "source": [
    "#### Confusion Matrix(混淆矩阵)"
   ]
  },
  {
   "cell_type": "code",
   "execution_count": 22,
   "id": "8daea93c",
   "metadata": {},
   "outputs": [
    {
     "data": {
      "text/plain": [
       "array([[53562,   520],\n",
       "       [  609,  5309]], dtype=int64)"
      ]
     },
     "execution_count": 22,
     "metadata": {},
     "output_type": "execute_result"
    }
   ],
   "source": [
    "## 混淆矩阵的思想就是 统计A类实例被归类为B类的次数\n",
    "## 混淆矩阵的出现会牵涉到后面 Precision和 Recall概念的出现\n",
    "## 一个混淆矩阵需要多组预测的结果\n",
    "from sklearn.model_selection import cross_val_predict\n",
    "# cross_val_predict 也会进行交叉验证的分fold的操作，但是它在分出fold，决定哪些是train_fold，哪些是test_fold后\n",
    "# 会用train_fold训练模型，用test_fold喂给模型得出predictions\n",
    "y_trained_pred = cross_val_predict(sgd_clf,X_train,y_train_6,cv = 3)\n",
    "from sklearn.metrics import confusion_matrix\n",
    "confusion_matrix(y_train_6,y_trained_pred)"
   ]
  },
  {
   "cell_type": "code",
   "execution_count": null,
   "id": "22142769",
   "metadata": {},
   "outputs": [],
   "source": [
    "# 这个就是混淆矩阵了\n",
    "# 对于这个二分类问题，第一行是Negative(非6)类，第二行是Positive(6)类，是Actual的\n",
    "# 第一列是预测的Negative，第二列是预测的Positive\n",
    "# 第一个数字表示本来是Neg的预测还是为Neg，是True Negative(TN)\n",
    "# 第二个数字表示本来是Neg的预测却是为Pos, 是False Positive(FP)\n",
    "# 第三个数字表示本来是Pos的预测却是为Neg, 是False Negative(FN)\n",
    "# 第四个数字表示本来是Pos的预测还是为Pos, 是True Positive(TP)\n",
    "## 接下来介绍Precision和Recall的计算方法和具体含义"
   ]
  },
  {
   "cell_type": "markdown",
   "id": "9f69ff61",
   "metadata": {},
   "source": [
    "#### Precision & Recall"
   ]
  },
  {
   "cell_type": "code",
   "execution_count": null,
   "id": "76b66547",
   "metadata": {},
   "outputs": [],
   "source": []
  }
 ],
 "metadata": {
  "kernelspec": {
   "display_name": "Python 3 (ipykernel)",
   "language": "python",
   "name": "python3"
  },
  "language_info": {
   "codemirror_mode": {
    "name": "ipython",
    "version": 3
   },
   "file_extension": ".py",
   "mimetype": "text/x-python",
   "name": "python",
   "nbconvert_exporter": "python",
   "pygments_lexer": "ipython3",
   "version": "3.7.0"
  }
 },
 "nbformat": 4,
 "nbformat_minor": 5
}
